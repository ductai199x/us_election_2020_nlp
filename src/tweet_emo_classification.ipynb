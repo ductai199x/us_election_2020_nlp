{
 "cells": [
  {
   "cell_type": "code",
   "execution_count": null,
   "metadata": {},
   "outputs": [],
   "source": [
    "import tensorflow as tf\n",
    "import pandas as pd\n",
    "import numpy as np\n",
    "\n",
    "import sys, os\n",
    "from tqdm.auto import tqdm"
   ]
  },
  {
   "cell_type": "code",
   "execution_count": null,
   "metadata": {},
   "outputs": [],
   "source": [
    "physical_devices = tf.config.list_physical_devices('GPU')\n",
    "for dev in physical_devices:\n",
    "    tf.config.experimental.set_memory_growth(dev, True)"
   ]
  },
  {
   "cell_type": "code",
   "execution_count": null,
   "metadata": {},
   "outputs": [],
   "source": [
    "from transformers import BertTokenizer, TFBertForSequenceClassification\n",
    "\n",
    "model = TFBertForSequenceClassification.from_pretrained(\"bert-base-uncased\")\n",
    "tokenizer = BertTokenizer.from_pretrained(\"bert-base-uncased\")"
   ]
  },
  {
   "cell_type": "code",
   "execution_count": null,
   "metadata": {},
   "outputs": [],
   "source": [
    "model.load_weights('bert_emo_finetuned_weights_only.h5')"
   ]
  },
  {
   "cell_type": "code",
   "execution_count": null,
   "metadata": {},
   "outputs": [],
   "source": [
    "DATA_DIR = '../data'\n",
    "mode = 'sample_100'\n",
    "# mode = '1_to_1'\n",
    "# is_cont = 'continuous'"
   ]
  },
  {
   "cell_type": "code",
   "execution_count": null,
   "metadata": {},
   "outputs": [],
   "source": [
    "biden_df = pd.read_csv(os.path.join(DATA_DIR, f'cleaned_{mode}_biden.csv'))\n",
    "trump_df = pd.read_csv(os.path.join(DATA_DIR, f'cleaned_{mode}_trump.csv'))"
   ]
  },
  {
   "cell_type": "code",
   "execution_count": null,
   "metadata": {},
   "outputs": [],
   "source": [
    "biden_df.loc[:,'who'] = 'biden'\n",
    "trump_df.loc[:,'who'] = 'trump'"
   ]
  },
  {
   "cell_type": "code",
   "execution_count": null,
   "metadata": {},
   "outputs": [],
   "source": [
    "balance_data_df = pd.DataFrame(columns=biden_df.columns)"
   ]
  },
  {
   "cell_type": "code",
   "execution_count": null,
   "metadata": {},
   "outputs": [],
   "source": [
    "balance_data_df"
   ]
  },
  {
   "cell_type": "code",
   "execution_count": null,
   "metadata": {},
   "outputs": [],
   "source": [
    "states_list = set(biden_df['state_code']).union(set(trump_df['state_code'])) - set(['MP', 'GU', 'PR', 'VI', 'AS', 'UM', ])"
   ]
  },
  {
   "cell_type": "code",
   "execution_count": null,
   "metadata": {},
   "outputs": [],
   "source": [
    "for state in states_list:\n",
    "    trump_df_state = trump_df[trump_df['state_code']==state]\n",
    "    biden_df_state = biden_df[biden_df['state_code']==state]\n",
    "    \n",
    "    n_sample = len(trump_df_state) if len(trump_df_state) < len(biden_df_state) else len(biden_df_state)\n",
    "    \n",
    "    if len(trump_df_state) < len(biden_df_state):\n",
    "        balance_data_df = pd.concat([balance_data_df, trump_df_state])\n",
    "        balance_data_df = pd.concat([balance_data_df, biden_df_state.sample(len(trump_df_state))])\n",
    "    else:\n",
    "        balance_data_df = pd.concat([balance_data_df, biden_df_state])\n",
    "        balance_data_df = pd.concat([balance_data_df, trump_df_state.sample(len(biden_df_state))])"
   ]
  },
  {
   "cell_type": "code",
   "execution_count": null,
   "metadata": {},
   "outputs": [],
   "source": [
    "balance_data_df"
   ]
  },
  {
   "cell_type": "code",
   "execution_count": null,
   "metadata": {},
   "outputs": [],
   "source": [
    "batch_size = 100"
   ]
  },
  {
   "cell_type": "code",
   "execution_count": null,
   "metadata": {},
   "outputs": [],
   "source": [
    "def emotion_classify(tweet_list):\n",
    "    batch_idx = np.append(np.arange(0, len(tweet_list), batch_size), len(tweet_list))\n",
    "    labels = np.array([])\n",
    "    for i in tqdm(range(len(batch_idx)-1)):\n",
    "        tf_batch = tokenizer(tweet_list[batch_idx[i]:batch_idx[i+1]], max_length=280, padding=True, truncation=True, return_tensors='tf')\n",
    "        tf_outputs = model(tf_batch)\n",
    "        tf_predictions = tf.nn.softmax(tf_outputs[0], axis=-1)\n",
    "        labels = np.append(labels, tf.argmax(tf_predictions, axis=1))\n",
    "#         labels = np.append(labels, tf_predictions[:,1])\n",
    "        del tf_batch\n",
    "    return labels"
   ]
  },
  {
   "cell_type": "code",
   "execution_count": null,
   "metadata": {},
   "outputs": [],
   "source": [
    "balance_data_df['sentiment'] = emotion_classify(list(balance_data_df['tweet']))"
   ]
  },
  {
   "cell_type": "code",
   "execution_count": null,
   "metadata": {},
   "outputs": [],
   "source": [
    "len(states_list)"
   ]
  },
  {
   "cell_type": "code",
   "execution_count": null,
   "metadata": {},
   "outputs": [],
   "source": [
    "dem_states = set(['DC', 'VT', 'HI', 'MA', 'MD', 'CA', 'NY', 'RI', 'DE', \n",
    "                 'CT', 'WA', 'ME', 'NJ', 'OR', 'IL'])\n",
    "rep_states = set(['OH', 'IA', 'TX', 'MT', 'SC', 'AK', 'MO', 'IN', 'NE',\n",
    "                 'KS', 'UT', 'MS', 'TN', 'SD', 'KY', 'LA', 'AL', 'ND',\n",
    "                 'ID', 'AR', 'OK', 'WV', 'WY'])\n",
    "swing_states = states_list - dem_states - rep_states"
   ]
  },
  {
   "cell_type": "code",
   "execution_count": null,
   "metadata": {
    "scrolled": true
   },
   "outputs": [],
   "source": [
    "swing_states"
   ]
  },
  {
   "cell_type": "code",
   "execution_count": null,
   "metadata": {},
   "outputs": [],
   "source": [
    "electoral_vote_by_state = pd.read_csv(os.path.join(DATA_DIR, 'electoral_vote_by_state.csv'))"
   ]
  },
  {
   "cell_type": "code",
   "execution_count": null,
   "metadata": {},
   "outputs": [],
   "source": [
    "states_results = pd.DataFrame(columns=['state_code', 'biden', 'trump', 'type', 'winner'])"
   ]
  },
  {
   "cell_type": "code",
   "execution_count": null,
   "metadata": {},
   "outputs": [],
   "source": [
    "states_results.loc[:,'state_code'] = electoral_vote_by_state['state_code']\n",
    "states_results.loc[:,'e_vote'] = electoral_vote_by_state['e_vote']"
   ]
  },
  {
   "cell_type": "code",
   "execution_count": null,
   "metadata": {
    "scrolled": true
   },
   "outputs": [],
   "source": [
    "type_vs_candidate = {'blue': 'biden', 'red': 'trump', 'purple': 'contentious'}\n",
    "threshold = 1.15\n",
    "for state in states_list:\n",
    "    trump_slice = balance_data_df.query(f'state_code == \"{state}\" and who == \"trump\"')\n",
    "    biden_slice = balance_data_df.query(f'state_code == \"{state}\" and who == \"biden\"')\n",
    "    trump_score = np.sum(trump_slice['sentiment']) + 1\n",
    "    biden_score = np.sum(biden_slice['sentiment']) + 1\n",
    "    \n",
    "    state_type = ''\n",
    "    if state in dem_states:\n",
    "        state_type = 'blue'\n",
    "    elif state in rep_states:\n",
    "        state_type = 'red'\n",
    "    else:\n",
    "        state_type = 'purple'\n",
    "        \n",
    "    winner = ''\n",
    "    if len(trump_slice) + len(biden_slice) < 1000:\n",
    "        winner = type_vs_candidate[state_type]\n",
    "    else:\n",
    "        if trump_score/biden_score > threshold:\n",
    "            winner = 'trump'\n",
    "        elif biden_score/trump_score > threshold:\n",
    "            winner = 'biden'\n",
    "        else:\n",
    "            winner = 'contentious'\n",
    "        \n",
    "    states_results.loc[states_results['state_code'] == state, ['biden', 'trump', 'type', 'winner']] = \\\n",
    "        [biden_score, trump_score, state_type, winner]"
   ]
  },
  {
   "cell_type": "code",
   "execution_count": null,
   "metadata": {},
   "outputs": [],
   "source": [
    "states_results.query('type==\"blue\" and winner==\"trump\"')"
   ]
  },
  {
   "cell_type": "code",
   "execution_count": null,
   "metadata": {},
   "outputs": [],
   "source": [
    "states_results.query('type==\"red\" and winner==\"biden\"')"
   ]
  },
  {
   "cell_type": "code",
   "execution_count": null,
   "metadata": {
    "scrolled": true
   },
   "outputs": [],
   "source": [
    "states_results.query('winner==\"contentious\"')"
   ]
  },
  {
   "cell_type": "code",
   "execution_count": null,
   "metadata": {},
   "outputs": [],
   "source": [
    "import geopandas as gpd\n",
    "import matplotlib.pyplot as plt"
   ]
  },
  {
   "cell_type": "code",
   "execution_count": null,
   "metadata": {},
   "outputs": [],
   "source": [
    "us_shape = gpd.read_file(os.path.join(DATA_DIR, 'us_shape', 'cb_2018_us_state_20m.shp'))"
   ]
  },
  {
   "cell_type": "code",
   "execution_count": null,
   "metadata": {},
   "outputs": [],
   "source": [
    "us_shape = us_shape[['STUSPS', 'geometry']]"
   ]
  },
  {
   "cell_type": "code",
   "execution_count": null,
   "metadata": {},
   "outputs": [],
   "source": [
    "states_results_tmp = states_results.copy()"
   ]
  },
  {
   "cell_type": "code",
   "execution_count": null,
   "metadata": {
    "scrolled": true
   },
   "outputs": [],
   "source": [
    "states_results_tmp = states_results_tmp.merge(us_shape, left_on='state_code', right_on='STUSPS')\n",
    "states_results_tmp.drop(['STUSPS'], axis=1, inplace=True)"
   ]
  },
  {
   "cell_type": "code",
   "execution_count": null,
   "metadata": {},
   "outputs": [],
   "source": [
    "states_results_tmp = gpd.GeoDataFrame(states_results_tmp)"
   ]
  },
  {
   "cell_type": "code",
   "execution_count": null,
   "metadata": {},
   "outputs": [],
   "source": [
    "states_results_tmp.columns"
   ]
  },
  {
   "cell_type": "code",
   "execution_count": null,
   "metadata": {
    "scrolled": false
   },
   "outputs": [],
   "source": [
    "fig, ax = plt.subplots(1, 1, figsize=(15,15))\n",
    "states_results_tmp.apply(lambda x: ax.annotate(s=x.state_code, xy=x.geometry.centroid.coords[0], ha='center', fontsize=9, color='white'),axis=1);\n",
    "states_results_tmp[states_results_tmp['winner'] == 'trump'].plot(ax=ax, color='red')\n",
    "states_results_tmp[states_results_tmp['winner'] == 'biden'].plot(ax=ax, color='blue')\n",
    "states_results_tmp[states_results_tmp['winner'] == 'contentious'].plot(ax=ax, color='purple')\n",
    "plt.axis('square')\n",
    "ax.set_xlim([-180, -60])\n",
    "ax.set_ylim([10, 80])\n",
    "ax.set_xticks([])\n",
    "ax.set_yticks([])"
   ]
  },
  {
   "cell_type": "code",
   "execution_count": null,
   "metadata": {},
   "outputs": [],
   "source": [
    "states_results.to_csv(os.path.join(DATA_DIR, f'state_results_{mode}_{is_cont}.csv'), index=False, header=True)\n",
    "fig.savefig(os.path.join(DATA_DIR, f'us_map_result_{mode}_{is_cont}.png'))"
   ]
  },
  {
   "cell_type": "code",
   "execution_count": null,
   "metadata": {},
   "outputs": [],
   "source": [
    "trump_vote = np.sum(states_results[states_results['winner'] == 'trump']['e_vote'])\n",
    "biden_vote = np.sum(states_results[states_results['winner'] == 'biden']['e_vote'])\n",
    "print(trump_vote, biden_vote)"
   ]
  }
 ],
 "metadata": {
  "kernelspec": {
   "display_name": "Python 3",
   "language": "python",
   "name": "python3"
  },
  "language_info": {
   "codemirror_mode": {
    "name": "ipython",
    "version": 3
   },
   "file_extension": ".py",
   "mimetype": "text/x-python",
   "name": "python",
   "nbconvert_exporter": "python",
   "pygments_lexer": "ipython3",
   "version": "3.6.8"
  }
 },
 "nbformat": 4,
 "nbformat_minor": 4
}
