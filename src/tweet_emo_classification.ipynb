{
 "cells": [
  {
   "cell_type": "code",
   "execution_count": 1,
   "metadata": {},
   "outputs": [],
   "source": [
    "import tensorflow as tf\n",
    "import pandas as pd\n",
    "import numpy as np\n",
    "\n",
    "import sys, os\n",
    "from tqdm.auto import tqdm"
   ]
  },
  {
   "cell_type": "code",
   "execution_count": 2,
   "metadata": {},
   "outputs": [],
   "source": [
    "physical_devices = tf.config.list_physical_devices('GPU')\n",
    "for dev in physical_devices:\n",
    "    tf.config.experimental.set_memory_growth(dev, True)"
   ]
  },
  {
   "cell_type": "code",
   "execution_count": 3,
   "metadata": {},
   "outputs": [
    {
     "name": "stderr",
     "output_type": "stream",
     "text": [
      "Some layers from the model checkpoint at bert-base-uncased were not used when initializing TFBertForSequenceClassification: ['nsp___cls', 'mlm___cls']\n",
      "- This IS expected if you are initializing TFBertForSequenceClassification from the checkpoint of a model trained on another task or with another architecture (e.g. initializing a BertForSequenceClassification model from a BertForPreTraining model).\n",
      "- This IS NOT expected if you are initializing TFBertForSequenceClassification from the checkpoint of a model that you expect to be exactly identical (initializing a BertForSequenceClassification model from a BertForSequenceClassification model).\n",
      "Some layers of TFBertForSequenceClassification were not initialized from the model checkpoint at bert-base-uncased and are newly initialized: ['classifier', 'dropout_37']\n",
      "You should probably TRAIN this model on a down-stream task to be able to use it for predictions and inference.\n"
     ]
    }
   ],
   "source": [
    "from transformers import BertTokenizer, TFBertForSequenceClassification\n",
    "\n",
    "model = TFBertForSequenceClassification.from_pretrained(\"bert-base-uncased\")\n",
    "tokenizer = BertTokenizer.from_pretrained(\"bert-base-uncased\")"
   ]
  },
  {
   "cell_type": "code",
   "execution_count": 4,
   "metadata": {},
   "outputs": [],
   "source": [
    "model.load_weights('bert_emo_finetuned_weights_only.h5')"
   ]
  },
  {
   "cell_type": "code",
   "execution_count": 5,
   "metadata": {},
   "outputs": [],
   "source": [
    "DATA_DIR = '../data'"
   ]
  },
  {
   "cell_type": "code",
   "execution_count": 6,
   "metadata": {},
   "outputs": [],
   "source": [
    "biden_df = pd.read_csv(os.path.join(DATA_DIR, 'cleaned_1_to_1_biden.csv'))\n",
    "trump_df = pd.read_csv(os.path.join(DATA_DIR, 'cleaned_1_to_1_trump.csv'))"
   ]
  },
  {
   "cell_type": "code",
   "execution_count": 7,
   "metadata": {},
   "outputs": [],
   "source": [
    "biden_df.loc[:,'who'] = 'biden'\n",
    "trump_df.loc[:,'who'] = 'trump'"
   ]
  },
  {
   "cell_type": "code",
   "execution_count": 8,
   "metadata": {},
   "outputs": [],
   "source": [
    "balance_data_df = pd.DataFrame(columns=biden_df.columns)"
   ]
  },
  {
   "cell_type": "code",
   "execution_count": 9,
   "metadata": {},
   "outputs": [
    {
     "data": {
      "text/html": [
       "<div>\n",
       "<style scoped>\n",
       "    .dataframe tbody tr th:only-of-type {\n",
       "        vertical-align: middle;\n",
       "    }\n",
       "\n",
       "    .dataframe tbody tr th {\n",
       "        vertical-align: top;\n",
       "    }\n",
       "\n",
       "    .dataframe thead th {\n",
       "        text-align: right;\n",
       "    }\n",
       "</style>\n",
       "<table border=\"1\" class=\"dataframe\">\n",
       "  <thead>\n",
       "    <tr style=\"text-align: right;\">\n",
       "      <th></th>\n",
       "      <th>tweet</th>\n",
       "      <th>long</th>\n",
       "      <th>lat</th>\n",
       "      <th>state_code</th>\n",
       "      <th>sentiment</th>\n",
       "      <th>who</th>\n",
       "    </tr>\n",
       "  </thead>\n",
       "  <tbody>\n",
       "  </tbody>\n",
       "</table>\n",
       "</div>"
      ],
      "text/plain": [
       "Empty DataFrame\n",
       "Columns: [tweet, long, lat, state_code, sentiment, who]\n",
       "Index: []"
      ]
     },
     "execution_count": 9,
     "metadata": {},
     "output_type": "execute_result"
    }
   ],
   "source": [
    "balance_data_df"
   ]
  },
  {
   "cell_type": "code",
   "execution_count": 10,
   "metadata": {},
   "outputs": [],
   "source": [
    "states_list = set(biden_df['state_code']).union(set(trump_df['state_code'])) - set(['MP', 'GU', 'PR', 'VI', 'AS', 'UM', ])"
   ]
  },
  {
   "cell_type": "code",
   "execution_count": 11,
   "metadata": {},
   "outputs": [],
   "source": [
    "for state in states_list:\n",
    "    trump_df_state = trump_df[trump_df['state_code']==state]\n",
    "    biden_df_state = biden_df[biden_df['state_code']==state]\n",
    "    \n",
    "    n_sample = len(trump_df_state) if len(trump_df_state) < len(biden_df_state) else len(biden_df_state)\n",
    "    \n",
    "    if len(trump_df_state) < len(biden_df_state):\n",
    "        balance_data_df = pd.concat([balance_data_df, trump_df_state])\n",
    "        balance_data_df = pd.concat([balance_data_df, biden_df_state.sample(len(trump_df_state))])\n",
    "    else:\n",
    "        balance_data_df = pd.concat([balance_data_df, biden_df_state])\n",
    "        balance_data_df = pd.concat([balance_data_df, trump_df_state.sample(len(biden_df_state))])"
   ]
  },
  {
   "cell_type": "code",
   "execution_count": 12,
   "metadata": {},
   "outputs": [
    {
     "data": {
      "text/html": [
       "<div>\n",
       "<style scoped>\n",
       "    .dataframe tbody tr th:only-of-type {\n",
       "        vertical-align: middle;\n",
       "    }\n",
       "\n",
       "    .dataframe tbody tr th {\n",
       "        vertical-align: top;\n",
       "    }\n",
       "\n",
       "    .dataframe thead th {\n",
       "        text-align: right;\n",
       "    }\n",
       "</style>\n",
       "<table border=\"1\" class=\"dataframe\">\n",
       "  <thead>\n",
       "    <tr style=\"text-align: right;\">\n",
       "      <th></th>\n",
       "      <th>tweet</th>\n",
       "      <th>long</th>\n",
       "      <th>lat</th>\n",
       "      <th>state_code</th>\n",
       "      <th>sentiment</th>\n",
       "      <th>who</th>\n",
       "    </tr>\n",
       "  </thead>\n",
       "  <tbody>\n",
       "    <tr>\n",
       "      <th>1234</th>\n",
       "      <td>I will never give up fighting for you and our ...</td>\n",
       "      <td>-105.573285</td>\n",
       "      <td>36.407238</td>\n",
       "      <td>NM</td>\n",
       "      <td>0</td>\n",
       "      <td>trump</td>\n",
       "    </tr>\n",
       "    <tr>\n",
       "      <th>1235</th>\n",
       "      <td>From the \"you couldn't make this shit up if yo...</td>\n",
       "      <td>-105.573285</td>\n",
       "      <td>36.407238</td>\n",
       "      <td>NM</td>\n",
       "      <td>0</td>\n",
       "      <td>trump</td>\n",
       "    </tr>\n",
       "    <tr>\n",
       "      <th>1237</th>\n",
       "      <td>Today, the US set a single day record of 88,45...</td>\n",
       "      <td>-105.573285</td>\n",
       "      <td>36.407238</td>\n",
       "      <td>NM</td>\n",
       "      <td>0</td>\n",
       "      <td>trump</td>\n",
       "    </tr>\n",
       "    <tr>\n",
       "      <th>1239</th>\n",
       "      <td>\"I was putting too much trust in Americans . ....</td>\n",
       "      <td>-105.573285</td>\n",
       "      <td>36.407238</td>\n",
       "      <td>NM</td>\n",
       "      <td>0</td>\n",
       "      <td>trump</td>\n",
       "    </tr>\n",
       "    <tr>\n",
       "      <th>1240</th>\n",
       "      <td>Trump says nobody gets hacked but forgot his h...</td>\n",
       "      <td>-105.573285</td>\n",
       "      <td>36.407238</td>\n",
       "      <td>NM</td>\n",
       "      <td>0</td>\n",
       "      <td>trump</td>\n",
       "    </tr>\n",
       "    <tr>\n",
       "      <th>...</th>\n",
       "      <td>...</td>\n",
       "      <td>...</td>\n",
       "      <td>...</td>\n",
       "      <td>...</td>\n",
       "      <td>...</td>\n",
       "      <td>...</td>\n",
       "    </tr>\n",
       "    <tr>\n",
       "      <th>2109</th>\n",
       "      <td>I am a moderate democrat yet I am a trillion t...</td>\n",
       "      <td>-100.540737</td>\n",
       "      <td>47.620146</td>\n",
       "      <td>ND</td>\n",
       "      <td>0</td>\n",
       "      <td>biden</td>\n",
       "    </tr>\n",
       "    <tr>\n",
       "      <th>44097</th>\n",
       "      <td>Such a powerful song. Heres to the land that m...</td>\n",
       "      <td>-96.900362</td>\n",
       "      <td>46.874967</td>\n",
       "      <td>ND</td>\n",
       "      <td>0</td>\n",
       "      <td>biden</td>\n",
       "    </tr>\n",
       "    <tr>\n",
       "      <th>39844</th>\n",
       "      <td>It almost would be fitting that the king of la...</td>\n",
       "      <td>-100.540737</td>\n",
       "      <td>47.620146</td>\n",
       "      <td>ND</td>\n",
       "      <td>0</td>\n",
       "      <td>biden</td>\n",
       "    </tr>\n",
       "    <tr>\n",
       "      <th>19393</th>\n",
       "      <td>EVERYONE GET OUT AND VOTE TOMORROW, PRESIDENTI...</td>\n",
       "      <td>-100.540737</td>\n",
       "      <td>47.620146</td>\n",
       "      <td>ND</td>\n",
       "      <td>0</td>\n",
       "      <td>biden</td>\n",
       "    </tr>\n",
       "    <tr>\n",
       "      <th>20441</th>\n",
       "      <td>When JoeBiden says, Lets take America back!  H...</td>\n",
       "      <td>-100.540737</td>\n",
       "      <td>47.620146</td>\n",
       "      <td>ND</td>\n",
       "      <td>0</td>\n",
       "      <td>biden</td>\n",
       "    </tr>\n",
       "  </tbody>\n",
       "</table>\n",
       "<p>76760 rows × 6 columns</p>\n",
       "</div>"
      ],
      "text/plain": [
       "                                                   tweet        long  \\\n",
       "1234   I will never give up fighting for you and our ... -105.573285   \n",
       "1235   From the \"you couldn't make this shit up if yo... -105.573285   \n",
       "1237   Today, the US set a single day record of 88,45... -105.573285   \n",
       "1239   \"I was putting too much trust in Americans . .... -105.573285   \n",
       "1240   Trump says nobody gets hacked but forgot his h... -105.573285   \n",
       "...                                                  ...         ...   \n",
       "2109   I am a moderate democrat yet I am a trillion t... -100.540737   \n",
       "44097  Such a powerful song. Heres to the land that m...  -96.900362   \n",
       "39844  It almost would be fitting that the king of la... -100.540737   \n",
       "19393  EVERYONE GET OUT AND VOTE TOMORROW, PRESIDENTI... -100.540737   \n",
       "20441  When JoeBiden says, Lets take America back!  H... -100.540737   \n",
       "\n",
       "             lat state_code sentiment    who  \n",
       "1234   36.407238         NM         0  trump  \n",
       "1235   36.407238         NM         0  trump  \n",
       "1237   36.407238         NM         0  trump  \n",
       "1239   36.407238         NM         0  trump  \n",
       "1240   36.407238         NM         0  trump  \n",
       "...          ...        ...       ...    ...  \n",
       "2109   47.620146         ND         0  biden  \n",
       "44097  46.874967         ND         0  biden  \n",
       "39844  47.620146         ND         0  biden  \n",
       "19393  47.620146         ND         0  biden  \n",
       "20441  47.620146         ND         0  biden  \n",
       "\n",
       "[76760 rows x 6 columns]"
      ]
     },
     "execution_count": 12,
     "metadata": {},
     "output_type": "execute_result"
    }
   ],
   "source": [
    "balance_data_df"
   ]
  },
  {
   "cell_type": "code",
   "execution_count": 13,
   "metadata": {},
   "outputs": [],
   "source": [
    "batch_size = 100"
   ]
  },
  {
   "cell_type": "code",
   "execution_count": 14,
   "metadata": {},
   "outputs": [],
   "source": [
    "def emotion_classify(tweet_list):\n",
    "    batch_idx = np.append(np.arange(0, len(tweet_list), batch_size), len(tweet_list))\n",
    "    labels = np.array([])\n",
    "    for i in tqdm(range(len(batch_idx)-1)):\n",
    "        tf_batch = tokenizer(tweet_list[batch_idx[i]:batch_idx[i+1]], max_length=280, padding=True, truncation=True, return_tensors='tf')\n",
    "        tf_outputs = model(tf_batch)\n",
    "        tf_predictions = tf.nn.softmax(tf_outputs[0], axis=-1)\n",
    "        labels = np.append(labels, tf.argmax(tf_predictions, axis=1))\n",
    "        del tf_batch\n",
    "    return labels"
   ]
  },
  {
   "cell_type": "code",
   "execution_count": 15,
   "metadata": {},
   "outputs": [
    {
     "data": {
      "application/vnd.jupyter.widget-view+json": {
       "model_id": "068d72c080744c87815b5c9f347ed76f",
       "version_major": 2,
       "version_minor": 0
      },
      "text/plain": [
       "HBox(children=(HTML(value=''), FloatProgress(value=0.0, max=768.0), HTML(value='')))"
      ]
     },
     "metadata": {},
     "output_type": "display_data"
    },
    {
     "name": "stdout",
     "output_type": "stream",
     "text": [
      "\n"
     ]
    }
   ],
   "source": [
    "balance_data_df['sentiment'] = emotion_classify(list(balance_data_df['tweet']))"
   ]
  },
  {
   "cell_type": "code",
   "execution_count": 26,
   "metadata": {},
   "outputs": [],
   "source": [
    "# biden_df.to_csv(os.path.join(DATA_DIR, 'classified_1_to_1_biden.csv'), index=False, header=True)\n",
    "# trump_df.to_csv(os.path.join(DATA_DIR, 'classified_1_to_1_trump.csv'), index=False, header=True)"
   ]
  },
  {
   "cell_type": "code",
   "execution_count": 27,
   "metadata": {},
   "outputs": [
    {
     "data": {
      "text/plain": [
       "51"
      ]
     },
     "execution_count": 27,
     "metadata": {},
     "output_type": "execute_result"
    }
   ],
   "source": [
    "len(states_list)"
   ]
  },
  {
   "cell_type": "code",
   "execution_count": 28,
   "metadata": {},
   "outputs": [],
   "source": [
    "dem_states = set(['DC', 'VT', 'HI', 'MA', 'MD', 'CA', 'NY', 'RI', 'DE', \n",
    "                 'CT', 'WA', 'ME', 'NJ', 'OR', 'IL'])\n",
    "rep_states = set(['OH', 'IA', 'TX', 'MT', 'SC', 'AK', 'MO', 'IN', 'NE',\n",
    "                 'KS', 'UT', 'MS', 'TN', 'SD', 'KY', 'LA', 'AL', 'ND',\n",
    "                 'ID', 'AR', 'OK', 'WV', 'WY'])\n",
    "swing_states = states_list - dem_states - rep_states"
   ]
  },
  {
   "cell_type": "code",
   "execution_count": 29,
   "metadata": {},
   "outputs": [
    {
     "data": {
      "text/plain": [
       "{'AZ', 'CO', 'FL', 'GA', 'MI', 'MN', 'NC', 'NH', 'NM', 'NV', 'PA', 'VA', 'WI'}"
      ]
     },
     "execution_count": 29,
     "metadata": {},
     "output_type": "execute_result"
    }
   ],
   "source": [
    "swing_states"
   ]
  },
  {
   "cell_type": "code",
   "execution_count": 67,
   "metadata": {},
   "outputs": [],
   "source": [
    "states_results = pd.DataFrame(columns=['state_code', 'biden', 'trump', 'type', 'winner'])"
   ]
  },
  {
   "cell_type": "code",
   "execution_count": 68,
   "metadata": {},
   "outputs": [],
   "source": [
    "states_results.loc[:,'state_code'] = list(states_list)"
   ]
  },
  {
   "cell_type": "code",
   "execution_count": 69,
   "metadata": {
    "scrolled": true
   },
   "outputs": [],
   "source": [
    "type_vs_candidate = {'blue': 'biden', 'red': 'trump', 'purple': 'contentious'}\n",
    "for state in states_list:\n",
    "    trump_slice = balance_data_df.query(f'state_code == \"{state}\" and who == \"trump\"')\n",
    "    biden_slice = balance_data_df.query(f'state_code == \"{state}\" and who == \"biden\"')\n",
    "    trump_score = np.sum(trump_slice['sentiment']) + 1\n",
    "    biden_score = np.sum(biden_slice['sentiment']) + 1\n",
    "    \n",
    "    state_type = ''\n",
    "    if state in dem_states:\n",
    "        state_type = 'blue'\n",
    "    elif state in rep_states:\n",
    "        state_type = 'red'\n",
    "    else:\n",
    "        state_type = 'purple'\n",
    "        \n",
    "    winner = ''\n",
    "    if len(trump_slice) + len(biden_slice) < 1000:\n",
    "        winner = type_vs_candidate[state_type]\n",
    "    else:\n",
    "        if trump_score/biden_score > 1.1:\n",
    "            winner = 'trump'\n",
    "        elif biden_score/trump_score > 1.1:\n",
    "            winner = 'biden'\n",
    "        else:\n",
    "            winner = 'contentious'\n",
    "        \n",
    "    states_results.loc[states_results['state_code'] == state, ['biden', 'trump', 'type', 'winner']] = \\\n",
    "        [biden_score, trump_score, state_type, winner]"
   ]
  },
  {
   "cell_type": "code",
   "execution_count": 74,
   "metadata": {},
   "outputs": [],
   "source": [
    "states_results.to_csv(os.path.join(DATA_DIR, 'state_results.csv'), index=False, header=True)"
   ]
  },
  {
   "cell_type": "code",
   "execution_count": 71,
   "metadata": {},
   "outputs": [
    {
     "data": {
      "text/html": [
       "<div>\n",
       "<style scoped>\n",
       "    .dataframe tbody tr th:only-of-type {\n",
       "        vertical-align: middle;\n",
       "    }\n",
       "\n",
       "    .dataframe tbody tr th {\n",
       "        vertical-align: top;\n",
       "    }\n",
       "\n",
       "    .dataframe thead th {\n",
       "        text-align: right;\n",
       "    }\n",
       "</style>\n",
       "<table border=\"1\" class=\"dataframe\">\n",
       "  <thead>\n",
       "    <tr style=\"text-align: right;\">\n",
       "      <th></th>\n",
       "      <th>state_code</th>\n",
       "      <th>biden</th>\n",
       "      <th>trump</th>\n",
       "      <th>type</th>\n",
       "      <th>winner</th>\n",
       "    </tr>\n",
       "  </thead>\n",
       "  <tbody>\n",
       "  </tbody>\n",
       "</table>\n",
       "</div>"
      ],
      "text/plain": [
       "Empty DataFrame\n",
       "Columns: [state_code, biden, trump, type, winner]\n",
       "Index: []"
      ]
     },
     "execution_count": 71,
     "metadata": {},
     "output_type": "execute_result"
    }
   ],
   "source": [
    "states_results.query('type==\"blue\" and winner==\"trump\"')"
   ]
  },
  {
   "cell_type": "code",
   "execution_count": 72,
   "metadata": {},
   "outputs": [
    {
     "data": {
      "text/html": [
       "<div>\n",
       "<style scoped>\n",
       "    .dataframe tbody tr th:only-of-type {\n",
       "        vertical-align: middle;\n",
       "    }\n",
       "\n",
       "    .dataframe tbody tr th {\n",
       "        vertical-align: top;\n",
       "    }\n",
       "\n",
       "    .dataframe thead th {\n",
       "        text-align: right;\n",
       "    }\n",
       "</style>\n",
       "<table border=\"1\" class=\"dataframe\">\n",
       "  <thead>\n",
       "    <tr style=\"text-align: right;\">\n",
       "      <th></th>\n",
       "      <th>state_code</th>\n",
       "      <th>biden</th>\n",
       "      <th>trump</th>\n",
       "      <th>type</th>\n",
       "      <th>winner</th>\n",
       "    </tr>\n",
       "  </thead>\n",
       "  <tbody>\n",
       "  </tbody>\n",
       "</table>\n",
       "</div>"
      ],
      "text/plain": [
       "Empty DataFrame\n",
       "Columns: [state_code, biden, trump, type, winner]\n",
       "Index: []"
      ]
     },
     "execution_count": 72,
     "metadata": {},
     "output_type": "execute_result"
    }
   ],
   "source": [
    "states_results.query('type==\"red\" and winner==\"biden\"')"
   ]
  },
  {
   "cell_type": "code",
   "execution_count": 73,
   "metadata": {
    "scrolled": false
   },
   "outputs": [
    {
     "data": {
      "text/html": [
       "<div>\n",
       "<style scoped>\n",
       "    .dataframe tbody tr th:only-of-type {\n",
       "        vertical-align: middle;\n",
       "    }\n",
       "\n",
       "    .dataframe tbody tr th {\n",
       "        vertical-align: top;\n",
       "    }\n",
       "\n",
       "    .dataframe thead th {\n",
       "        text-align: right;\n",
       "    }\n",
       "</style>\n",
       "<table border=\"1\" class=\"dataframe\">\n",
       "  <thead>\n",
       "    <tr style=\"text-align: right;\">\n",
       "      <th></th>\n",
       "      <th>state_code</th>\n",
       "      <th>biden</th>\n",
       "      <th>trump</th>\n",
       "      <th>type</th>\n",
       "      <th>winner</th>\n",
       "    </tr>\n",
       "  </thead>\n",
       "  <tbody>\n",
       "    <tr>\n",
       "      <th>0</th>\n",
       "      <td>NM</td>\n",
       "      <td>100</td>\n",
       "      <td>87</td>\n",
       "      <td>purple</td>\n",
       "      <td>contentious</td>\n",
       "    </tr>\n",
       "    <tr>\n",
       "      <th>11</th>\n",
       "      <td>NH</td>\n",
       "      <td>76</td>\n",
       "      <td>67</td>\n",
       "      <td>purple</td>\n",
       "      <td>contentious</td>\n",
       "    </tr>\n",
       "    <tr>\n",
       "      <th>15</th>\n",
       "      <td>NV</td>\n",
       "      <td>376</td>\n",
       "      <td>356</td>\n",
       "      <td>purple</td>\n",
       "      <td>contentious</td>\n",
       "    </tr>\n",
       "    <tr>\n",
       "      <th>20</th>\n",
       "      <td>AZ</td>\n",
       "      <td>516</td>\n",
       "      <td>474</td>\n",
       "      <td>purple</td>\n",
       "      <td>contentious</td>\n",
       "    </tr>\n",
       "    <tr>\n",
       "      <th>28</th>\n",
       "      <td>OH</td>\n",
       "      <td>618</td>\n",
       "      <td>566</td>\n",
       "      <td>red</td>\n",
       "      <td>contentious</td>\n",
       "    </tr>\n",
       "    <tr>\n",
       "      <th>29</th>\n",
       "      <td>TN</td>\n",
       "      <td>413</td>\n",
       "      <td>399</td>\n",
       "      <td>red</td>\n",
       "      <td>contentious</td>\n",
       "    </tr>\n",
       "    <tr>\n",
       "      <th>31</th>\n",
       "      <td>WI</td>\n",
       "      <td>277</td>\n",
       "      <td>247</td>\n",
       "      <td>purple</td>\n",
       "      <td>contentious</td>\n",
       "    </tr>\n",
       "    <tr>\n",
       "      <th>32</th>\n",
       "      <td>MN</td>\n",
       "      <td>292</td>\n",
       "      <td>252</td>\n",
       "      <td>purple</td>\n",
       "      <td>contentious</td>\n",
       "    </tr>\n",
       "    <tr>\n",
       "      <th>42</th>\n",
       "      <td>FL</td>\n",
       "      <td>2033</td>\n",
       "      <td>1924</td>\n",
       "      <td>purple</td>\n",
       "      <td>contentious</td>\n",
       "    </tr>\n",
       "    <tr>\n",
       "      <th>43</th>\n",
       "      <td>TX</td>\n",
       "      <td>2449</td>\n",
       "      <td>2281</td>\n",
       "      <td>red</td>\n",
       "      <td>contentious</td>\n",
       "    </tr>\n",
       "  </tbody>\n",
       "</table>\n",
       "</div>"
      ],
      "text/plain": [
       "   state_code biden trump    type       winner\n",
       "0          NM   100    87  purple  contentious\n",
       "11         NH    76    67  purple  contentious\n",
       "15         NV   376   356  purple  contentious\n",
       "20         AZ   516   474  purple  contentious\n",
       "28         OH   618   566     red  contentious\n",
       "29         TN   413   399     red  contentious\n",
       "31         WI   277   247  purple  contentious\n",
       "32         MN   292   252  purple  contentious\n",
       "42         FL  2033  1924  purple  contentious\n",
       "43         TX  2449  2281     red  contentious"
      ]
     },
     "execution_count": 73,
     "metadata": {},
     "output_type": "execute_result"
    }
   ],
   "source": [
    "states_results.query('winner==\"contentious\"')"
   ]
  }
 ],
 "metadata": {
  "kernelspec": {
   "display_name": "Python 3",
   "language": "python",
   "name": "python3"
  },
  "language_info": {
   "codemirror_mode": {
    "name": "ipython",
    "version": 3
   },
   "file_extension": ".py",
   "mimetype": "text/x-python",
   "name": "python",
   "nbconvert_exporter": "python",
   "pygments_lexer": "ipython3",
   "version": "3.6.8"
  }
 },
 "nbformat": 4,
 "nbformat_minor": 4
}
