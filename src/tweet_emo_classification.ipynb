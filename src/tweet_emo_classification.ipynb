{
 "cells": [
  {
   "cell_type": "code",
   "execution_count": 1,
   "metadata": {},
   "outputs": [],
   "source": [
    "import tensorflow as tf\n",
    "import pandas as pd\n",
    "import numpy as np\n",
    "\n",
    "import sys, os\n",
    "from tqdm.auto import tqdm"
   ]
  },
  {
   "cell_type": "code",
   "execution_count": 2,
   "metadata": {},
   "outputs": [],
   "source": [
    "physical_devices = tf.config.list_physical_devices('GPU')\n",
    "for dev in physical_devices:\n",
    "    tf.config.experimental.set_memory_growth(dev, True)"
   ]
  },
  {
   "cell_type": "code",
   "execution_count": 3,
   "metadata": {},
   "outputs": [
    {
     "name": "stderr",
     "output_type": "stream",
     "text": [
      "Some layers from the model checkpoint at bert-base-uncased were not used when initializing TFBertForSequenceClassification: ['mlm___cls', 'nsp___cls']\n",
      "- This IS expected if you are initializing TFBertForSequenceClassification from the checkpoint of a model trained on another task or with another architecture (e.g. initializing a BertForSequenceClassification model from a BertForPreTraining model).\n",
      "- This IS NOT expected if you are initializing TFBertForSequenceClassification from the checkpoint of a model that you expect to be exactly identical (initializing a BertForSequenceClassification model from a BertForSequenceClassification model).\n",
      "Some layers of TFBertForSequenceClassification were not initialized from the model checkpoint at bert-base-uncased and are newly initialized: ['classifier', 'dropout_37']\n",
      "You should probably TRAIN this model on a down-stream task to be able to use it for predictions and inference.\n"
     ]
    }
   ],
   "source": [
    "from transformers import BertTokenizer, TFBertForSequenceClassification\n",
    "\n",
    "model = TFBertForSequenceClassification.from_pretrained(\"bert-base-uncased\")\n",
    "tokenizer = BertTokenizer.from_pretrained(\"bert-base-uncased\")"
   ]
  },
  {
   "cell_type": "code",
   "execution_count": 4,
   "metadata": {},
   "outputs": [],
   "source": [
    "model.load_weights('bert_emo_finetuned_weights_only.h5')"
   ]
  },
  {
   "cell_type": "code",
   "execution_count": 5,
   "metadata": {},
   "outputs": [],
   "source": [
    "DATA_DIR = '../data'"
   ]
  },
  {
   "cell_type": "code",
   "execution_count": 6,
   "metadata": {},
   "outputs": [],
   "source": [
    "biden_df = pd.read_csv(os.path.join(DATA_DIR, 'cleaned_1_to_1_biden.csv'))\n",
    "trump_df = pd.read_csv(os.path.join(DATA_DIR, 'cleaned_1_to_1_trump.csv'))"
   ]
  },
  {
   "cell_type": "code",
   "execution_count": 7,
   "metadata": {},
   "outputs": [],
   "source": [
    "biden_df.loc[:,'who'] = 'biden'\n",
    "trump_df.loc[:,'who'] = 'trump'"
   ]
  },
  {
   "cell_type": "code",
   "execution_count": 8,
   "metadata": {},
   "outputs": [],
   "source": [
    "balance_data_df = pd.DataFrame(columns=biden_df.columns)"
   ]
  },
  {
   "cell_type": "code",
   "execution_count": 9,
   "metadata": {},
   "outputs": [
    {
     "data": {
      "text/html": [
       "<div>\n",
       "<style scoped>\n",
       "    .dataframe tbody tr th:only-of-type {\n",
       "        vertical-align: middle;\n",
       "    }\n",
       "\n",
       "    .dataframe tbody tr th {\n",
       "        vertical-align: top;\n",
       "    }\n",
       "\n",
       "    .dataframe thead th {\n",
       "        text-align: right;\n",
       "    }\n",
       "</style>\n",
       "<table border=\"1\" class=\"dataframe\">\n",
       "  <thead>\n",
       "    <tr style=\"text-align: right;\">\n",
       "      <th></th>\n",
       "      <th>tweet</th>\n",
       "      <th>long</th>\n",
       "      <th>lat</th>\n",
       "      <th>state_code</th>\n",
       "      <th>sentiment</th>\n",
       "      <th>who</th>\n",
       "    </tr>\n",
       "  </thead>\n",
       "  <tbody>\n",
       "  </tbody>\n",
       "</table>\n",
       "</div>"
      ],
      "text/plain": [
       "Empty DataFrame\n",
       "Columns: [tweet, long, lat, state_code, sentiment, who]\n",
       "Index: []"
      ]
     },
     "execution_count": 9,
     "metadata": {},
     "output_type": "execute_result"
    }
   ],
   "source": [
    "balance_data_df"
   ]
  },
  {
   "cell_type": "code",
   "execution_count": 10,
   "metadata": {},
   "outputs": [],
   "source": [
    "states_list = set(biden_df['state_code']).union(set(trump_df['state_code'])) - set(['MP', 'GU', 'PR', 'VI', 'AS', 'UM', ])"
   ]
  },
  {
   "cell_type": "code",
   "execution_count": 11,
   "metadata": {},
   "outputs": [],
   "source": [
    "for state in states_list:\n",
    "    trump_df_state = trump_df[trump_df['state_code']==state]\n",
    "    biden_df_state = biden_df[biden_df['state_code']==state]\n",
    "    \n",
    "    n_sample = len(trump_df_state) if len(trump_df_state) < len(biden_df_state) else len(biden_df_state)\n",
    "    \n",
    "    if len(trump_df_state) < len(biden_df_state):\n",
    "        balance_data_df = pd.concat([balance_data_df, trump_df_state])\n",
    "        balance_data_df = pd.concat([balance_data_df, biden_df_state.sample(len(trump_df_state))])\n",
    "    else:\n",
    "        balance_data_df = pd.concat([balance_data_df, biden_df_state])\n",
    "        balance_data_df = pd.concat([balance_data_df, trump_df_state.sample(len(biden_df_state))])"
   ]
  },
  {
   "cell_type": "code",
   "execution_count": 12,
   "metadata": {},
   "outputs": [
    {
     "data": {
      "text/html": [
       "<div>\n",
       "<style scoped>\n",
       "    .dataframe tbody tr th:only-of-type {\n",
       "        vertical-align: middle;\n",
       "    }\n",
       "\n",
       "    .dataframe tbody tr th {\n",
       "        vertical-align: top;\n",
       "    }\n",
       "\n",
       "    .dataframe thead th {\n",
       "        text-align: right;\n",
       "    }\n",
       "</style>\n",
       "<table border=\"1\" class=\"dataframe\">\n",
       "  <thead>\n",
       "    <tr style=\"text-align: right;\">\n",
       "      <th></th>\n",
       "      <th>tweet</th>\n",
       "      <th>long</th>\n",
       "      <th>lat</th>\n",
       "      <th>state_code</th>\n",
       "      <th>sentiment</th>\n",
       "      <th>who</th>\n",
       "    </tr>\n",
       "  </thead>\n",
       "  <tbody>\n",
       "    <tr>\n",
       "      <th>231</th>\n",
       "      <td>I have been using  to post my socialmedia cont...</td>\n",
       "      <td>-97.268406</td>\n",
       "      <td>34.955082</td>\n",
       "      <td>OK</td>\n",
       "      <td>0</td>\n",
       "      <td>trump</td>\n",
       "    </tr>\n",
       "    <tr>\n",
       "      <th>232</th>\n",
       "      <td>Current Counts Biden 73,293,162 Trump 69,534,8...</td>\n",
       "      <td>-97.268406</td>\n",
       "      <td>34.955082</td>\n",
       "      <td>OK</td>\n",
       "      <td>0</td>\n",
       "      <td>trump</td>\n",
       "    </tr>\n",
       "    <tr>\n",
       "      <th>509</th>\n",
       "      <td>Hilarious Woman Behind Trump Rips Up Pics Of P...</td>\n",
       "      <td>-97.268406</td>\n",
       "      <td>34.955082</td>\n",
       "      <td>OK</td>\n",
       "      <td>0</td>\n",
       "      <td>trump</td>\n",
       "    </tr>\n",
       "    <tr>\n",
       "      <th>596</th>\n",
       "      <td>NotNickFish For all of his chest-pounding brav...</td>\n",
       "      <td>-97.268406</td>\n",
       "      <td>34.955082</td>\n",
       "      <td>OK</td>\n",
       "      <td>0</td>\n",
       "      <td>trump</td>\n",
       "    </tr>\n",
       "    <tr>\n",
       "      <th>1454</th>\n",
       "      <td>Hey Patriots!  Who do you trust?TrumpIsMyPresi...</td>\n",
       "      <td>-97.268406</td>\n",
       "      <td>34.955082</td>\n",
       "      <td>OK</td>\n",
       "      <td>0</td>\n",
       "      <td>trump</td>\n",
       "    </tr>\n",
       "    <tr>\n",
       "      <th>...</th>\n",
       "      <td>...</td>\n",
       "      <td>...</td>\n",
       "      <td>...</td>\n",
       "      <td>...</td>\n",
       "      <td>...</td>\n",
       "      <td>...</td>\n",
       "    </tr>\n",
       "    <tr>\n",
       "      <th>29099</th>\n",
       "      <td>JoeBiden said this election was about \"charact...</td>\n",
       "      <td>-80.436374</td>\n",
       "      <td>33.687439</td>\n",
       "      <td>SC</td>\n",
       "      <td>0</td>\n",
       "      <td>biden</td>\n",
       "    </tr>\n",
       "    <tr>\n",
       "      <th>835</th>\n",
       "      <td>This will be the WORST decision ANY VOTER coul...</td>\n",
       "      <td>-78.680032</td>\n",
       "      <td>33.827841</td>\n",
       "      <td>SC</td>\n",
       "      <td>0</td>\n",
       "      <td>biden</td>\n",
       "    </tr>\n",
       "    <tr>\n",
       "      <th>968</th>\n",
       "      <td>Let's go Biden BidenHarris2020 BidenHarris2020...</td>\n",
       "      <td>-81.932016</td>\n",
       "      <td>34.949801</td>\n",
       "      <td>SC</td>\n",
       "      <td>0</td>\n",
       "      <td>biden</td>\n",
       "    </tr>\n",
       "    <tr>\n",
       "      <th>17992</th>\n",
       "      <td>Mic drop. Biden</td>\n",
       "      <td>-80.436374</td>\n",
       "      <td>33.687439</td>\n",
       "      <td>SC</td>\n",
       "      <td>0</td>\n",
       "      <td>biden</td>\n",
       "    </tr>\n",
       "    <tr>\n",
       "      <th>26258</th>\n",
       "      <td>Guy is a total moron KAG JoeBiden</td>\n",
       "      <td>-80.436374</td>\n",
       "      <td>33.687439</td>\n",
       "      <td>SC</td>\n",
       "      <td>0</td>\n",
       "      <td>biden</td>\n",
       "    </tr>\n",
       "  </tbody>\n",
       "</table>\n",
       "<p>76760 rows × 6 columns</p>\n",
       "</div>"
      ],
      "text/plain": [
       "                                                   tweet       long  \\\n",
       "231    I have been using  to post my socialmedia cont... -97.268406   \n",
       "232    Current Counts Biden 73,293,162 Trump 69,534,8... -97.268406   \n",
       "509    Hilarious Woman Behind Trump Rips Up Pics Of P... -97.268406   \n",
       "596    NotNickFish For all of his chest-pounding brav... -97.268406   \n",
       "1454   Hey Patriots!  Who do you trust?TrumpIsMyPresi... -97.268406   \n",
       "...                                                  ...        ...   \n",
       "29099  JoeBiden said this election was about \"charact... -80.436374   \n",
       "835    This will be the WORST decision ANY VOTER coul... -78.680032   \n",
       "968    Let's go Biden BidenHarris2020 BidenHarris2020... -81.932016   \n",
       "17992                                   Mic drop. Biden  -80.436374   \n",
       "26258                 Guy is a total moron KAG JoeBiden  -80.436374   \n",
       "\n",
       "             lat state_code sentiment    who  \n",
       "231    34.955082         OK         0  trump  \n",
       "232    34.955082         OK         0  trump  \n",
       "509    34.955082         OK         0  trump  \n",
       "596    34.955082         OK         0  trump  \n",
       "1454   34.955082         OK         0  trump  \n",
       "...          ...        ...       ...    ...  \n",
       "29099  33.687439         SC         0  biden  \n",
       "835    33.827841         SC         0  biden  \n",
       "968    34.949801         SC         0  biden  \n",
       "17992  33.687439         SC         0  biden  \n",
       "26258  33.687439         SC         0  biden  \n",
       "\n",
       "[76760 rows x 6 columns]"
      ]
     },
     "execution_count": 12,
     "metadata": {},
     "output_type": "execute_result"
    }
   ],
   "source": [
    "balance_data_df"
   ]
  },
  {
   "cell_type": "code",
   "execution_count": 13,
   "metadata": {},
   "outputs": [],
   "source": [
    "batch_size = 100"
   ]
  },
  {
   "cell_type": "code",
   "execution_count": 20,
   "metadata": {},
   "outputs": [],
   "source": [
    "def emotion_classify(tweet_list):\n",
    "    batch_idx = np.append(np.arange(0, len(tweet_list), batch_size), len(tweet_list))\n",
    "    labels = np.array([])\n",
    "    for i in tqdm(range(len(batch_idx)-1)):\n",
    "        tf_batch = tokenizer(tweet_list[batch_idx[i]:batch_idx[i+1]], max_length=280, padding=True, truncation=True, return_tensors='tf')\n",
    "        tf_outputs = model(tf_batch)\n",
    "        tf_predictions = tf.nn.softmax(tf_outputs[0], axis=-1)\n",
    "#         labels = np.append(labels, tf.argmax(tf_predictions, axis=1))\n",
    "        labels = np.append(labels, tf_predictions[:,1])\n",
    "        del tf_batch\n",
    "    return labels"
   ]
  },
  {
   "cell_type": "code",
   "execution_count": 21,
   "metadata": {},
   "outputs": [
    {
     "data": {
      "application/vnd.jupyter.widget-view+json": {
       "model_id": "d7efe6ac5c9049c2b09a2e1a05631a02",
       "version_major": 2,
       "version_minor": 0
      },
      "text/plain": [
       "HBox(children=(HTML(value=''), FloatProgress(value=0.0, max=768.0), HTML(value='')))"
      ]
     },
     "metadata": {},
     "output_type": "display_data"
    },
    {
     "name": "stdout",
     "output_type": "stream",
     "text": [
      "\n"
     ]
    }
   ],
   "source": [
    "balance_data_df['sentiment'] = emotion_classify(list(balance_data_df['tweet']))"
   ]
  },
  {
   "cell_type": "code",
   "execution_count": 46,
   "metadata": {},
   "outputs": [],
   "source": [
    "# biden_df.to_csv(os.path.join(DATA_DIR, 'classified_1_to_1_biden.csv'), index=False, header=True)\n",
    "# trump_df.to_csv(os.path.join(DATA_DIR, 'classified_1_to_1_trump.csv'), index=False, header=True)"
   ]
  },
  {
   "cell_type": "code",
   "execution_count": 47,
   "metadata": {},
   "outputs": [
    {
     "data": {
      "text/plain": [
       "51"
      ]
     },
     "execution_count": 47,
     "metadata": {},
     "output_type": "execute_result"
    }
   ],
   "source": [
    "len(states_list)"
   ]
  },
  {
   "cell_type": "code",
   "execution_count": 48,
   "metadata": {},
   "outputs": [],
   "source": [
    "dem_states = set(['DC', 'VT', 'HI', 'MA', 'MD', 'CA', 'NY', 'RI', 'DE', \n",
    "                 'CT', 'WA', 'ME', 'NJ', 'OR', 'IL'])\n",
    "rep_states = set(['OH', 'IA', 'TX', 'MT', 'SC', 'AK', 'MO', 'IN', 'NE',\n",
    "                 'KS', 'UT', 'MS', 'TN', 'SD', 'KY', 'LA', 'AL', 'ND',\n",
    "                 'ID', 'AR', 'OK', 'WV', 'WY'])\n",
    "swing_states = states_list - dem_states - rep_states"
   ]
  },
  {
   "cell_type": "code",
   "execution_count": 49,
   "metadata": {
    "scrolled": true
   },
   "outputs": [
    {
     "data": {
      "text/plain": [
       "{'AZ', 'CO', 'FL', 'GA', 'MI', 'MN', 'NC', 'NH', 'NM', 'NV', 'PA', 'VA', 'WI'}"
      ]
     },
     "execution_count": 49,
     "metadata": {},
     "output_type": "execute_result"
    }
   ],
   "source": [
    "swing_states"
   ]
  },
  {
   "cell_type": "code",
   "execution_count": 50,
   "metadata": {},
   "outputs": [],
   "source": [
    "electoral_vote_by_state = pd.read_csv(os.path.join(DATA_DIR, 'electoral_vote_by_state.csv'))"
   ]
  },
  {
   "cell_type": "code",
   "execution_count": 51,
   "metadata": {},
   "outputs": [],
   "source": [
    "states_results = pd.DataFrame(columns=['state_code', 'biden', 'trump', 'type', 'winner'])"
   ]
  },
  {
   "cell_type": "code",
   "execution_count": 52,
   "metadata": {},
   "outputs": [],
   "source": [
    "states_results.loc[:,'state_code'] = electoral_vote_by_state['state_code']\n",
    "states_results.loc[:,'e_vote'] = electoral_vote_by_state['e_vote']"
   ]
  },
  {
   "cell_type": "code",
   "execution_count": 53,
   "metadata": {
    "scrolled": true
   },
   "outputs": [],
   "source": [
    "type_vs_candidate = {'blue': 'biden', 'red': 'trump', 'purple': 'contentious'}\n",
    "for state in states_list:\n",
    "    trump_slice = balance_data_df.query(f'state_code == \"{state}\" and who == \"trump\"')\n",
    "    biden_slice = balance_data_df.query(f'state_code == \"{state}\" and who == \"biden\"')\n",
    "    trump_score = np.sum(trump_slice['sentiment']) + 1\n",
    "    biden_score = np.sum(biden_slice['sentiment']) + 1\n",
    "    \n",
    "    state_type = ''\n",
    "    if state in dem_states:\n",
    "        state_type = 'blue'\n",
    "    elif state in rep_states:\n",
    "        state_type = 'red'\n",
    "    else:\n",
    "        state_type = 'purple'\n",
    "        \n",
    "    winner = ''\n",
    "    if len(trump_slice) + len(biden_slice) < 1000:\n",
    "        winner = type_vs_candidate[state_type]\n",
    "    else:\n",
    "        if trump_score/biden_score > 1.1:\n",
    "            winner = 'trump'\n",
    "        elif biden_score/trump_score > 1.1:\n",
    "            winner = 'biden'\n",
    "        else:\n",
    "            winner = 'contentious'\n",
    "        \n",
    "    states_results.loc[states_results['state_code'] == state, ['biden', 'trump', 'type', 'winner']] = \\\n",
    "        [biden_score, trump_score, state_type, winner]"
   ]
  },
  {
   "cell_type": "code",
   "execution_count": 54,
   "metadata": {},
   "outputs": [],
   "source": [
    "states_results.to_csv(os.path.join(DATA_DIR, 'state_results_continuous.csv'), index=False, header=True)"
   ]
  },
  {
   "cell_type": "code",
   "execution_count": 55,
   "metadata": {},
   "outputs": [
    {
     "data": {
      "text/html": [
       "<div>\n",
       "<style scoped>\n",
       "    .dataframe tbody tr th:only-of-type {\n",
       "        vertical-align: middle;\n",
       "    }\n",
       "\n",
       "    .dataframe tbody tr th {\n",
       "        vertical-align: top;\n",
       "    }\n",
       "\n",
       "    .dataframe thead th {\n",
       "        text-align: right;\n",
       "    }\n",
       "</style>\n",
       "<table border=\"1\" class=\"dataframe\">\n",
       "  <thead>\n",
       "    <tr style=\"text-align: right;\">\n",
       "      <th></th>\n",
       "      <th>state_code</th>\n",
       "      <th>biden</th>\n",
       "      <th>trump</th>\n",
       "      <th>type</th>\n",
       "      <th>winner</th>\n",
       "      <th>e_vote</th>\n",
       "    </tr>\n",
       "  </thead>\n",
       "  <tbody>\n",
       "  </tbody>\n",
       "</table>\n",
       "</div>"
      ],
      "text/plain": [
       "Empty DataFrame\n",
       "Columns: [state_code, biden, trump, type, winner, e_vote]\n",
       "Index: []"
      ]
     },
     "execution_count": 55,
     "metadata": {},
     "output_type": "execute_result"
    }
   ],
   "source": [
    "states_results.query('type==\"blue\" and winner==\"trump\"')"
   ]
  },
  {
   "cell_type": "code",
   "execution_count": 56,
   "metadata": {},
   "outputs": [
    {
     "data": {
      "text/html": [
       "<div>\n",
       "<style scoped>\n",
       "    .dataframe tbody tr th:only-of-type {\n",
       "        vertical-align: middle;\n",
       "    }\n",
       "\n",
       "    .dataframe tbody tr th {\n",
       "        vertical-align: top;\n",
       "    }\n",
       "\n",
       "    .dataframe thead th {\n",
       "        text-align: right;\n",
       "    }\n",
       "</style>\n",
       "<table border=\"1\" class=\"dataframe\">\n",
       "  <thead>\n",
       "    <tr style=\"text-align: right;\">\n",
       "      <th></th>\n",
       "      <th>state_code</th>\n",
       "      <th>biden</th>\n",
       "      <th>trump</th>\n",
       "      <th>type</th>\n",
       "      <th>winner</th>\n",
       "      <th>e_vote</th>\n",
       "    </tr>\n",
       "  </thead>\n",
       "  <tbody>\n",
       "  </tbody>\n",
       "</table>\n",
       "</div>"
      ],
      "text/plain": [
       "Empty DataFrame\n",
       "Columns: [state_code, biden, trump, type, winner, e_vote]\n",
       "Index: []"
      ]
     },
     "execution_count": 56,
     "metadata": {},
     "output_type": "execute_result"
    }
   ],
   "source": [
    "states_results.query('type==\"red\" and winner==\"biden\"')"
   ]
  },
  {
   "cell_type": "code",
   "execution_count": 57,
   "metadata": {
    "scrolled": true
   },
   "outputs": [
    {
     "data": {
      "text/html": [
       "<div>\n",
       "<style scoped>\n",
       "    .dataframe tbody tr th:only-of-type {\n",
       "        vertical-align: middle;\n",
       "    }\n",
       "\n",
       "    .dataframe tbody tr th {\n",
       "        vertical-align: top;\n",
       "    }\n",
       "\n",
       "    .dataframe thead th {\n",
       "        text-align: right;\n",
       "    }\n",
       "</style>\n",
       "<table border=\"1\" class=\"dataframe\">\n",
       "  <thead>\n",
       "    <tr style=\"text-align: right;\">\n",
       "      <th></th>\n",
       "      <th>state_code</th>\n",
       "      <th>biden</th>\n",
       "      <th>trump</th>\n",
       "      <th>type</th>\n",
       "      <th>winner</th>\n",
       "      <th>e_vote</th>\n",
       "    </tr>\n",
       "  </thead>\n",
       "  <tbody>\n",
       "    <tr>\n",
       "      <th>4</th>\n",
       "      <td>AZ</td>\n",
       "      <td>486.914</td>\n",
       "      <td>468.384</td>\n",
       "      <td>purple</td>\n",
       "      <td>contentious</td>\n",
       "      <td>11</td>\n",
       "    </tr>\n",
       "    <tr>\n",
       "      <th>5</th>\n",
       "      <td>NV</td>\n",
       "      <td>353.515</td>\n",
       "      <td>333.975</td>\n",
       "      <td>purple</td>\n",
       "      <td>contentious</td>\n",
       "      <td>6</td>\n",
       "    </tr>\n",
       "    <tr>\n",
       "      <th>7</th>\n",
       "      <td>NH</td>\n",
       "      <td>76.6571</td>\n",
       "      <td>68.5772</td>\n",
       "      <td>purple</td>\n",
       "      <td>contentious</td>\n",
       "      <td>4</td>\n",
       "    </tr>\n",
       "    <tr>\n",
       "      <th>11</th>\n",
       "      <td>NM</td>\n",
       "      <td>93.9297</td>\n",
       "      <td>88.684</td>\n",
       "      <td>purple</td>\n",
       "      <td>contentious</td>\n",
       "      <td>5</td>\n",
       "    </tr>\n",
       "    <tr>\n",
       "      <th>18</th>\n",
       "      <td>FL</td>\n",
       "      <td>1968.43</td>\n",
       "      <td>1832.91</td>\n",
       "      <td>purple</td>\n",
       "      <td>contentious</td>\n",
       "      <td>29</td>\n",
       "    </tr>\n",
       "    <tr>\n",
       "      <th>19</th>\n",
       "      <td>OH</td>\n",
       "      <td>595.612</td>\n",
       "      <td>551.782</td>\n",
       "      <td>red</td>\n",
       "      <td>contentious</td>\n",
       "      <td>18</td>\n",
       "    </tr>\n",
       "    <tr>\n",
       "      <th>33</th>\n",
       "      <td>TN</td>\n",
       "      <td>403.022</td>\n",
       "      <td>388.969</td>\n",
       "      <td>red</td>\n",
       "      <td>contentious</td>\n",
       "      <td>11</td>\n",
       "    </tr>\n",
       "    <tr>\n",
       "      <th>35</th>\n",
       "      <td>TX</td>\n",
       "      <td>2354.04</td>\n",
       "      <td>2197.1</td>\n",
       "      <td>red</td>\n",
       "      <td>contentious</td>\n",
       "      <td>38</td>\n",
       "    </tr>\n",
       "    <tr>\n",
       "      <th>46</th>\n",
       "      <td>MN</td>\n",
       "      <td>280.322</td>\n",
       "      <td>251.282</td>\n",
       "      <td>purple</td>\n",
       "      <td>contentious</td>\n",
       "      <td>10</td>\n",
       "    </tr>\n",
       "    <tr>\n",
       "      <th>47</th>\n",
       "      <td>WI</td>\n",
       "      <td>259.108</td>\n",
       "      <td>232.674</td>\n",
       "      <td>purple</td>\n",
       "      <td>contentious</td>\n",
       "      <td>10</td>\n",
       "    </tr>\n",
       "  </tbody>\n",
       "</table>\n",
       "</div>"
      ],
      "text/plain": [
       "   state_code    biden    trump    type       winner  e_vote\n",
       "4          AZ  486.914  468.384  purple  contentious      11\n",
       "5          NV  353.515  333.975  purple  contentious       6\n",
       "7          NH  76.6571  68.5772  purple  contentious       4\n",
       "11         NM  93.9297   88.684  purple  contentious       5\n",
       "18         FL  1968.43  1832.91  purple  contentious      29\n",
       "19         OH  595.612  551.782     red  contentious      18\n",
       "33         TN  403.022  388.969     red  contentious      11\n",
       "35         TX  2354.04   2197.1     red  contentious      38\n",
       "46         MN  280.322  251.282  purple  contentious      10\n",
       "47         WI  259.108  232.674  purple  contentious      10"
      ]
     },
     "execution_count": 57,
     "metadata": {},
     "output_type": "execute_result"
    }
   ],
   "source": [
    "states_results.query('winner==\"contentious\"')"
   ]
  },
  {
   "cell_type": "code",
   "execution_count": 58,
   "metadata": {},
   "outputs": [],
   "source": [
    "import geopandas as gpd\n",
    "import matplotlib.pyplot as plt"
   ]
  },
  {
   "cell_type": "code",
   "execution_count": 59,
   "metadata": {},
   "outputs": [],
   "source": [
    "us_shape = gpd.read_file(os.path.join(DATA_DIR, 'us_shape', 'cb_2018_us_state_20m.shp'))"
   ]
  },
  {
   "cell_type": "code",
   "execution_count": 60,
   "metadata": {},
   "outputs": [],
   "source": [
    "us_shape = us_shape[['STUSPS', 'geometry']]"
   ]
  },
  {
   "cell_type": "code",
   "execution_count": 61,
   "metadata": {},
   "outputs": [],
   "source": [
    "states_results_tmp = states_results.copy()"
   ]
  },
  {
   "cell_type": "code",
   "execution_count": 62,
   "metadata": {
    "scrolled": true
   },
   "outputs": [],
   "source": [
    "states_results_tmp = states_results_tmp.merge(us_shape, left_on='state_code', right_on='STUSPS')\n",
    "states_results_tmp.drop(['STUSPS'], axis=1, inplace=True)"
   ]
  },
  {
   "cell_type": "code",
   "execution_count": 63,
   "metadata": {},
   "outputs": [],
   "source": [
    "states_results_tmp = gpd.GeoDataFrame(states_results_tmp)"
   ]
  },
  {
   "cell_type": "code",
   "execution_count": 64,
   "metadata": {},
   "outputs": [
    {
     "data": {
      "text/plain": [
       "Index(['state_code', 'biden', 'trump', 'type', 'winner', 'e_vote', 'geometry'], dtype='object')"
      ]
     },
     "execution_count": 64,
     "metadata": {},
     "output_type": "execute_result"
    }
   ],
   "source": [
    "states_results_tmp.columns"
   ]
  },
  {
   "cell_type": "code",
   "execution_count": 65,
   "metadata": {},
   "outputs": [
    {
     "name": "stderr",
     "output_type": "stream",
     "text": [
      "/home/tai/1-workdir/us_election_nlp/lib/python3.6/site-packages/ipykernel_launcher.py:2: MatplotlibDeprecationWarning: The 's' parameter of annotate() has been renamed 'text' since Matplotlib 3.3; support for the old name will be dropped two minor releases later.\n",
      "  \n"
     ]
    },
    {
     "data": {
      "image/png": "[encoded data removed]",
      "text/plain": [
       "<Figure size 1080x1080 with 1 Axes>"
      ]
     },
     "metadata": {},
     "output_type": "display_data"
    }
   ],
   "source": [
    "fig, ax = plt.subplots(1, 1, figsize=(15,15))\n",
    "states_results_tmp.apply(lambda x: ax.annotate(s=x.state_code, xy=x.geometry.centroid.coords[0], ha='center', fontsize=9, color='white'),axis=1);\n",
    "states_results_tmp[states_results_tmp['winner'] == 'trump'].plot(ax=ax, color='red')\n",
    "states_results_tmp[states_results_tmp['winner'] == 'biden'].plot(ax=ax, color='blue')\n",
    "states_results_tmp[states_results_tmp['winner'] == 'contentious'].plot(ax=ax, color='purple')\n",
    "plt.axis('square')\n",
    "ax.set_xlim([-180, -60])\n",
    "ax.set_ylim([10, 80])\n",
    "ax.set_xticks([])\n",
    "ax.set_yticks([])\n",
    "fig.savefig(os.path.join(DATA_DIR, 'us_map_result_continuous.png'))"
   ]
  },
  {
   "cell_type": "code",
   "execution_count": 69,
   "metadata": {
    "scrolled": true
   },
   "outputs": [
    {
     "name": "stdout",
     "output_type": "stream",
     "text": [
      "121 275\n"
     ]
    }
   ],
   "source": [
    "num_vote_to_win = 270\n",
    "trump_vote = np.sum(states_results[states_results['winner'] == 'trump']['e_vote'])\n",
    "biden_vote = np.sum(states_results[states_results['winner'] == 'biden']['e_vote'])\n",
    "print(trump_vote, biden_vote)"
   ]
  },
  {
   "cell_type": "code",
   "execution_count": null,
   "metadata": {},
   "outputs": [],
   "source": []
  },
  {
   "cell_type": "code",
   "execution_count": null,
   "metadata": {},
   "outputs": [],
   "source": []
  }
 ],
 "metadata": {
  "kernelspec": {
   "display_name": "Python 3",
   "language": "python",
   "name": "python3"
  },
  "language_info": {
   "codemirror_mode": {
    "name": "ipython",
    "version": 3
   },
   "file_extension": ".py",
   "mimetype": "text/x-python",
   "name": "python",
   "nbconvert_exporter": "python",
   "pygments_lexer": "ipython3",
   "version": "3.6.8"
  }
 },
 "nbformat": 4,
 "nbformat_minor": 4
}
